{
 "cells": [
  {
   "cell_type": "code",
   "execution_count": 1,
   "metadata": {},
   "outputs": [
    {
     "name": "stderr",
     "output_type": "stream",
     "text": [
      "Using TensorFlow backend.\n"
     ]
    }
   ],
   "source": [
    "%matplotlib inline\n",
    "import numpy as np\n",
    "import pandas as pd\n",
    "from weekly_buysell_rnn import WeeklyRebalanceRNN"
   ]
  },
  {
   "cell_type": "code",
   "execution_count": 2,
   "metadata": {
    "collapsed": true
   },
   "outputs": [],
   "source": [
    "DATA = pd.read_hdf(\"nasdaq_split-adjusted.hdf5\")"
   ]
  },
  {
   "cell_type": "code",
   "execution_count": 3,
   "metadata": {},
   "outputs": [
    {
     "data": {
      "text/plain": [
       "<class 'pandas.core.panel.Panel'>\n",
       "Dimensions: 80 (items) x 1762 (major_axis) x 5 (minor_axis)\n",
       "Items axis: AAL to XRAY\n",
       "Major_axis axis: 2010-01-04 00:00:00 to 2016-12-30 00:00:00\n",
       "Minor_axis axis: open to volume"
      ]
     },
     "execution_count": 3,
     "metadata": {},
     "output_type": "execute_result"
    }
   ],
   "source": [
    "DATA"
   ]
  },
  {
   "cell_type": "code",
   "execution_count": 4,
   "metadata": {
    "collapsed": true
   },
   "outputs": [],
   "source": [
    "stocks = [\"AAPL\",\"AMZN\",\"EA\",\"EBAY\", \"INTC\", \"GOOGL\",\"NFLX\", \"NVDA\", \"REGN\" ,\"XRAY\"]\n",
    "stocks.sort()\n",
    "dta = DATA.loc[stocks,:,:]"
   ]
  },
  {
   "cell_type": "code",
   "execution_count": 5,
   "metadata": {},
   "outputs": [
    {
     "name": "stdout",
     "output_type": "stream",
     "text": [
      "Backtest has begun...\n",
      "====================\n",
      "1/149 train, date 2011-01-27\n",
      "Initial training finished, accuracy: 45.60%\n",
      "====================\n",
      "3/149 retrain, date 2011-02-25\n",
      "Retrain finished, accuracy: 49.60%\n",
      "====================\n",
      "6/149 retrain, date 2011-04-08\n",
      "Retrain finished, accuracy: 53.60%\n",
      "====================\n",
      "9/149 retrain, date 2011-05-23\n",
      "Retrain finished, accuracy: 54.40%\n",
      "====================\n",
      "12/149 retrain, date 2011-07-06\n",
      "Retrain finished, accuracy: 52.80%\n",
      "====================\n",
      "15/149 retrain, date 2011-08-17\n",
      "Retrain finished, accuracy: 53.60%\n",
      "====================\n",
      "18/149 retrain, date 2011-09-29\n",
      "Retrain finished, accuracy: 54.80%\n",
      "====================\n",
      "21/149 retrain, date 2011-11-10\n",
      "Retrain finished, accuracy: 48.40%\n",
      "====================\n",
      "24/149 retrain, date 2011-12-23\n",
      "Retrain finished, accuracy: 57.20%\n",
      "====================\n",
      "27/149 retrain, date 2012-02-08\n",
      "Retrain finished, accuracy: 56.80%\n",
      "====================\n",
      "30/149 retrain, date 2012-03-22\n",
      "Retrain finished, accuracy: 55.60%\n",
      "====================\n",
      "33/149 retrain, date 2012-05-04\n",
      "Retrain finished, accuracy: 46.40%\n",
      "====================\n",
      "36/149 retrain, date 2012-06-18\n",
      "Retrain finished, accuracy: 46.80%\n",
      "====================\n",
      "39/149 retrain, date 2012-07-31\n",
      "Retrain finished, accuracy: 58.00%\n",
      "====================\n",
      "42/149 retrain, date 2012-09-12\n",
      "Retrain finished, accuracy: 57.20%\n",
      "====================\n",
      "45/149 retrain, date 2012-10-24\n",
      "Retrain finished, accuracy: 49.60%\n",
      "====================\n",
      "48/149 retrain, date 2012-12-10\n",
      "Retrain finished, accuracy: 44.00%\n",
      "====================\n",
      "51/149 retrain, date 2013-01-24\n",
      "Retrain finished, accuracy: 55.20%\n",
      "====================\n",
      "54/149 retrain, date 2013-03-08\n",
      "Retrain finished, accuracy: 54.00%\n",
      "====================\n",
      "57/149 retrain, date 2013-04-22\n",
      "Retrain finished, accuracy: 56.00%\n",
      "====================\n",
      "60/149 retrain, date 2013-06-04\n",
      "Retrain finished, accuracy: 52.40%\n",
      "====================\n",
      "63/149 retrain, date 2013-07-17\n",
      "Retrain finished, accuracy: 56.40%\n",
      "====================\n",
      "66/149 retrain, date 2013-08-28\n",
      "Retrain finished, accuracy: 55.20%\n",
      "====================\n",
      "69/149 retrain, date 2013-10-10\n",
      "Retrain finished, accuracy: 50.80%\n",
      "====================\n",
      "72/149 retrain, date 2013-11-21\n",
      "Retrain finished, accuracy: 50.40%\n",
      "====================\n",
      "75/149 retrain, date 2014-01-07\n",
      "Retrain finished, accuracy: 35.60%\n",
      "====================\n",
      "78/149 retrain, date 2014-02-20\n",
      "Retrain finished, accuracy: 45.60%\n",
      "====================\n",
      "81/149 retrain, date 2014-04-03\n",
      "Retrain finished, accuracy: 39.60%\n",
      "====================\n",
      "84/149 retrain, date 2014-05-16\n",
      "Retrain finished, accuracy: 45.20%\n",
      "====================\n",
      "87/149 retrain, date 2014-06-30\n",
      "Retrain finished, accuracy: 48.80%\n",
      "====================\n",
      "90/149 retrain, date 2014-08-12\n",
      "Retrain finished, accuracy: 39.60%\n",
      "====================\n",
      "93/149 retrain, date 2014-09-24\n",
      "Retrain finished, accuracy: 44.80%\n",
      "====================\n",
      "96/149 retrain, date 2014-11-05\n",
      "Retrain finished, accuracy: 43.20%\n",
      "====================\n",
      "99/149 retrain, date 2014-12-18\n",
      "Retrain finished, accuracy: 46.00%\n",
      "====================\n",
      "102/149 retrain, date 2015-02-03\n",
      "Retrain finished, accuracy: 42.80%\n",
      "====================\n",
      "105/149 retrain, date 2015-03-18\n",
      "Retrain finished, accuracy: 38.00%\n",
      "====================\n",
      "108/149 retrain, date 2015-04-30\n",
      "Retrain finished, accuracy: 37.20%\n",
      "====================\n",
      "111/149 retrain, date 2015-06-12\n",
      "Retrain finished, accuracy: 29.60%\n",
      "====================\n",
      "114/149 retrain, date 2015-07-27\n",
      "Retrain finished, accuracy: 26.40%\n",
      "====================\n",
      "117/149 retrain, date 2015-09-08\n",
      "Retrain finished, accuracy: 26.80%\n",
      "====================\n",
      "120/149 retrain, date 2015-10-20\n",
      "Retrain finished, accuracy: 36.80%\n",
      "====================\n",
      "123/149 retrain, date 2015-12-02\n",
      "Retrain finished, accuracy: 27.60%\n",
      "====================\n",
      "126/149 retrain, date 2016-01-15\n",
      "Retrain finished, accuracy: 34.40%\n",
      "====================\n",
      "129/149 retrain, date 2016-03-01\n",
      "Retrain finished, accuracy: 33.60%\n",
      "====================\n",
      "132/149 retrain, date 2016-04-13\n",
      "Retrain finished, accuracy: 33.20%\n",
      "====================\n",
      "135/149 retrain, date 2016-05-25\n",
      "Retrain finished, accuracy: 38.40%\n",
      "====================\n",
      "138/149 retrain, date 2016-07-08\n",
      "Retrain finished, accuracy: 42.80%\n",
      "====================\n",
      "141/149 retrain, date 2016-08-19\n",
      "Retrain finished, accuracy: 44.00%\n",
      "====================\n",
      "144/149 retrain, date 2016-10-03\n",
      "Retrain finished, accuracy: 39.20%\n",
      "====================\n",
      "147/149 retrain, date 2016-11-14\n",
      "Retrain finished, accuracy: 36.80%\n",
      "====================\n",
      "Backtest finished after 13575.0 s\n"
     ]
    }
   ],
   "source": [
    "strategy = WeeklyRebalanceRNN(dta) #64-32-16\n",
    "strategy.backtest()"
   ]
  },
  {
   "cell_type": "markdown",
   "metadata": {},
   "source": [
    "We started with accuracy above 50% which is still not enough but result from backtest are quite good. After 2014 we stayed around 40% - strategy can be improved by fitting model with another 250 [500] epochs whenever accuracy fall under 45% [40%]. Backtest lasted 3h 46min so I will left it here without other experiments (trained on CPU)."
   ]
  },
  {
   "cell_type": "code",
   "execution_count": 6,
   "metadata": {},
   "outputs": [
    {
     "name": "stdout",
     "output_type": "stream",
     "text": [
      "[*********************100%***********************]  1 of 1 downloaded"
     ]
    },
    {
     "data": {
      "image/png": "[encoded data removed]",
      "text/plain": [
       "<matplotlib.figure.Figure at 0x1197a7278>"
      ]
     },
     "metadata": {},
     "output_type": "display_data"
    }
   ],
   "source": [
    "strategy.plot()"
   ]
  },
  {
   "cell_type": "code",
   "execution_count": 7,
   "metadata": {},
   "outputs": [
    {
     "data": {
      "text/html": [
       "<div>\n",
       "<style>\n",
       "    .dataframe thead tr:only-child th {\n",
       "        text-align: right;\n",
       "    }\n",
       "\n",
       "    .dataframe thead th {\n",
       "        text-align: left;\n",
       "    }\n",
       "\n",
       "    .dataframe tbody tr th {\n",
       "        vertical-align: top;\n",
       "    }\n",
       "</style>\n",
       "<table border=\"1\" class=\"dataframe\">\n",
       "  <thead>\n",
       "    <tr style=\"text-align: right;\">\n",
       "      <th></th>\n",
       "      <th>AAPL</th>\n",
       "      <th>AMZN</th>\n",
       "      <th>EA</th>\n",
       "      <th>EBAY</th>\n",
       "      <th>GOOGL</th>\n",
       "      <th>INTC</th>\n",
       "      <th>NFLX</th>\n",
       "      <th>NVDA</th>\n",
       "      <th>REGN</th>\n",
       "      <th>XRAY</th>\n",
       "    </tr>\n",
       "  </thead>\n",
       "  <tbody>\n",
       "    <tr>\n",
       "      <th>2016-10-17</th>\n",
       "      <td>0.357072</td>\n",
       "      <td>0.0</td>\n",
       "      <td>0.0</td>\n",
       "      <td>0.000000</td>\n",
       "      <td>0.000000</td>\n",
       "      <td>0.0</td>\n",
       "      <td>0.268531</td>\n",
       "      <td>0.374397</td>\n",
       "      <td>0.000000</td>\n",
       "      <td>0.000000</td>\n",
       "    </tr>\n",
       "    <tr>\n",
       "      <th>2016-10-31</th>\n",
       "      <td>0.090927</td>\n",
       "      <td>0.0</td>\n",
       "      <td>0.0</td>\n",
       "      <td>0.000000</td>\n",
       "      <td>0.000000</td>\n",
       "      <td>0.0</td>\n",
       "      <td>0.832801</td>\n",
       "      <td>0.000000</td>\n",
       "      <td>0.076272</td>\n",
       "      <td>0.000000</td>\n",
       "    </tr>\n",
       "    <tr>\n",
       "      <th>2016-11-14</th>\n",
       "      <td>0.000000</td>\n",
       "      <td>0.0</td>\n",
       "      <td>0.0</td>\n",
       "      <td>0.347128</td>\n",
       "      <td>0.000000</td>\n",
       "      <td>0.0</td>\n",
       "      <td>0.000000</td>\n",
       "      <td>0.347101</td>\n",
       "      <td>0.000000</td>\n",
       "      <td>0.305771</td>\n",
       "    </tr>\n",
       "    <tr>\n",
       "      <th>2016-11-29</th>\n",
       "      <td>0.000000</td>\n",
       "      <td>0.0</td>\n",
       "      <td>0.0</td>\n",
       "      <td>0.002867</td>\n",
       "      <td>0.000000</td>\n",
       "      <td>0.0</td>\n",
       "      <td>0.091082</td>\n",
       "      <td>0.906051</td>\n",
       "      <td>0.000000</td>\n",
       "      <td>0.000000</td>\n",
       "    </tr>\n",
       "    <tr>\n",
       "      <th>2016-12-13</th>\n",
       "      <td>0.000000</td>\n",
       "      <td>0.0</td>\n",
       "      <td>0.0</td>\n",
       "      <td>0.417464</td>\n",
       "      <td>0.092407</td>\n",
       "      <td>0.0</td>\n",
       "      <td>0.000000</td>\n",
       "      <td>0.490129</td>\n",
       "      <td>0.000000</td>\n",
       "      <td>0.000000</td>\n",
       "    </tr>\n",
       "  </tbody>\n",
       "</table>\n",
       "</div>"
      ],
      "text/plain": [
       "                AAPL  AMZN   EA      EBAY     GOOGL  INTC      NFLX      NVDA  \\\n",
       "2016-10-17  0.357072   0.0  0.0  0.000000  0.000000   0.0  0.268531  0.374397   \n",
       "2016-10-31  0.090927   0.0  0.0  0.000000  0.000000   0.0  0.832801  0.000000   \n",
       "2016-11-14  0.000000   0.0  0.0  0.347128  0.000000   0.0  0.000000  0.347101   \n",
       "2016-11-29  0.000000   0.0  0.0  0.002867  0.000000   0.0  0.091082  0.906051   \n",
       "2016-12-13  0.000000   0.0  0.0  0.417464  0.092407   0.0  0.000000  0.490129   \n",
       "\n",
       "                REGN      XRAY  \n",
       "2016-10-17  0.000000  0.000000  \n",
       "2016-10-31  0.076272  0.000000  \n",
       "2016-11-14  0.000000  0.305771  \n",
       "2016-11-29  0.000000  0.000000  \n",
       "2016-12-13  0.000000  0.000000  "
      ]
     },
     "execution_count": 7,
     "metadata": {},
     "output_type": "execute_result"
    }
   ],
   "source": [
    "strategy.weights[-5:]"
   ]
  },
  {
   "cell_type": "code",
   "execution_count": 8,
   "metadata": {},
   "outputs": [
    {
     "data": {
      "text/html": [
       "<div>\n",
       "<style>\n",
       "    .dataframe thead tr:only-child th {\n",
       "        text-align: right;\n",
       "    }\n",
       "\n",
       "    .dataframe thead th {\n",
       "        text-align: left;\n",
       "    }\n",
       "\n",
       "    .dataframe tbody tr th {\n",
       "        vertical-align: top;\n",
       "    }\n",
       "</style>\n",
       "<table border=\"1\" class=\"dataframe\">\n",
       "  <thead>\n",
       "    <tr style=\"text-align: right;\">\n",
       "      <th></th>\n",
       "      <th>returns</th>\n",
       "    </tr>\n",
       "    <tr>\n",
       "      <th>date</th>\n",
       "      <th></th>\n",
       "    </tr>\n",
       "  </thead>\n",
       "  <tbody>\n",
       "    <tr>\n",
       "      <th>2012-01-25</th>\n",
       "      <td>0.556045</td>\n",
       "    </tr>\n",
       "    <tr>\n",
       "      <th>2013-01-24</th>\n",
       "      <td>0.786666</td>\n",
       "    </tr>\n",
       "    <tr>\n",
       "      <th>2014-01-22</th>\n",
       "      <td>0.421765</td>\n",
       "    </tr>\n",
       "    <tr>\n",
       "      <th>2015-01-20</th>\n",
       "      <td>-0.157534</td>\n",
       "    </tr>\n",
       "    <tr>\n",
       "      <th>2016-01-15</th>\n",
       "      <td>0.212311</td>\n",
       "    </tr>\n",
       "    <tr>\n",
       "      <th>2016-12-30</th>\n",
       "      <td>0.420924</td>\n",
       "    </tr>\n",
       "  </tbody>\n",
       "</table>\n",
       "</div>"
      ],
      "text/plain": [
       "             returns\n",
       "date                \n",
       "2012-01-25  0.556045\n",
       "2013-01-24  0.786666\n",
       "2014-01-22  0.421765\n",
       "2015-01-20 -0.157534\n",
       "2016-01-15  0.212311\n",
       "2016-12-30  0.420924"
      ]
     },
     "execution_count": 8,
     "metadata": {},
     "output_type": "execute_result"
    }
   ],
   "source": [
    "strategy.calculate_annual_returns()"
   ]
  }
 ],
 "metadata": {
  "kernelspec": {
   "display_name": "Python 3",
   "language": "python",
   "name": "python3"
  },
  "language_info": {
   "codemirror_mode": {
    "name": "ipython",
    "version": 3
   },
   "file_extension": ".py",
   "mimetype": "text/x-python",
   "name": "python",
   "nbconvert_exporter": "python",
   "pygments_lexer": "ipython3",
   "version": "3.6.0"
  }
 },
 "nbformat": 4,
 "nbformat_minor": 2
}
